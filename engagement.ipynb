{
 "cells": [
  {
   "cell_type": "code",
   "execution_count": 71,
   "metadata": {},
   "outputs": [],
   "source": [
    "from os import listdir\n",
    "from collections import Counter, defaultdict\n",
    "import plotly\n",
    "\n",
    "from bs4 import BeautifulSoup\n",
    "import requests\n",
    "import pandas as pd\n",
    "\n",
    "\n",
    "def _read_file():\n",
    "    with open(\"followers.html\", \"r\", encoding=\"utf-8\") as f:\n",
    "        html = f.read()\n",
    "    soup = BeautifulSoup(html, features=\"html.parser\")\n",
    "    return soup\n"
   ]
  },
  {
   "cell_type": "code",
   "execution_count": 72,
   "metadata": {},
   "outputs": [],
   "source": [
    "def _extract_follower_images():\n",
    "    soup = _read_file()\n",
    "\n",
    "    all_a_elements = soup.find_all(\"a\", href=True)\n",
    "    all_links = [a[\"href\"] for a in all_a_elements]\n",
    "    all_links_unique = list(Counter(all_links).items())\n",
    "    all_followers = [url[1:-1] for url, _ in all_links_unique]\n",
    "\n",
    "    all_img_elements = soup.find_all(\"img\", src=True)\n",
    "    all_imgs = [a[\"src\"] for a in all_img_elements]\n",
    "\n",
    "    follower_images = dict(zip(all_followers, all_imgs))\n",
    "\n",
    "    return follower_images\n",
    "\n",
    "\n",
    "follower_images = _extract_follower_images()"
   ]
  },
  {
   "cell_type": "code",
   "execution_count": 73,
   "metadata": {},
   "outputs": [],
   "source": [
    "if len(listdir('images')) != len(follower_images):\n",
    "    for follower, url in follower_images.items():\n",
    "        response = requests.get(url)\n",
    "        open(f\"./images/{follower}.jpg\", \"wb\").write(response.content)"
   ]
  },
  {
   "cell_type": "code",
   "execution_count": 74,
   "metadata": {},
   "outputs": [],
   "source": [
    "def _extract_total_engagement():\n",
    "    data_files = [file for file in listdir('posts') if not file.startswith('_')]\n",
    "    posts = []\n",
    "    for file in data_files:\n",
    "        filename = file.split('.')[0]\n",
    "        exec(f'from posts.{filename} import p; posts.append(p)')\n",
    "\n",
    "    total_engagement = {follower: sum([post[follower] for post in posts]) for follower in follower_images}\n",
    "    return total_engagement\n",
    "\n",
    "\n",
    "follower_engagement = _extract_total_engagement()"
   ]
  },
  {
   "cell_type": "code",
   "execution_count": 75,
   "metadata": {},
   "outputs": [
    {
     "data": {
      "text/plain": [
       "{5: ['unbothered.moisturized'],\n",
       " 4: ['jd_is_frostyy',\n",
       "  'eli_salted',\n",
       "  'keenart_',\n",
       "  'priyashnil',\n",
       "  'marvyp97',\n",
       "  'salamitsesther'],\n",
       " 3: ['kayleejune_',\n",
       "  'dheie8a',\n",
       "  'harsimran__panda',\n",
       "  'willharinga',\n",
       "  'korinerosario',\n",
       "  'asinveryyoung',\n",
       "  'hashtags_g',\n",
       "  'juliaalee'],\n",
       " 2: ['vagittarius',\n",
       "  'sukh.maanix',\n",
       "  'iriskahh',\n",
       "  'e__zhang',\n",
       "  'aryanlobie',\n",
       "  'disposab.le',\n",
       "  'puneeth_david',\n",
       "  'patwal69',\n",
       "  'firstling_',\n",
       "  'wes.tavares',\n",
       "  'jayfujiirajani'],\n",
       " 1: ['dean_phommahaxay',\n",
       "  '2hard2hold',\n",
       "  'jashanz',\n",
       "  'megan_liew',\n",
       "  'navjotk___',\n",
       "  'findingmemyselfand_',\n",
       "  'arshveenhora',\n",
       "  'ab00si',\n",
       "  'norman__tan',\n",
       "  'penguye',\n",
       "  'hubbard.rosie',\n",
       "  'byunie96',\n",
       "  'camlindsay98',\n",
       "  'royspires',\n",
       "  'emsuns',\n",
       "  'alex___kimmy',\n",
       "  'owen_schonewille'],\n",
       " 0: ['rikerus',\n",
       "  'adventuresofbooplesnoot',\n",
       "  'amy_ff_h',\n",
       "  'odd_az',\n",
       "  'maikamontgomery',\n",
       "  'stolenlighter',\n",
       "  'claudiamckechnie',\n",
       "  'sophiologin',\n",
       "  'ebbastenhaug',\n",
       "  'troy.matich',\n",
       "  'jasmeersingh',\n",
       "  'gao.runzhe',\n",
       "  'akbloomfield',\n",
       "  'shafalovich1',\n",
       "  'roisincutts',\n",
       "  'nolan.andrade',\n",
       "  'big_ear_ben',\n",
       "  'pdiu.tfl',\n",
       "  'tamiel.t',\n",
       "  'car0llee',\n",
       "  'jonchristie_',\n",
       "  'zacchan96',\n",
       "  'adrianasoldatovic',\n",
       "  'nitoandco',\n",
       "  'nicberton',\n",
       "  'paulro777',\n",
       "  'kieran_bp',\n",
       "  'colocille',\n",
       "  'd1amyy1b',\n",
       "  'mizukikakui',\n",
       "  's.james.d']}"
      ]
     },
     "execution_count": 75,
     "metadata": {},
     "output_type": "execute_result"
    }
   ],
   "source": [
    "follower_engagement_reversed = defaultdict(list)\n",
    "for follower, engagement_score in follower_engagement.items():\n",
    "    follower_engagement_reversed[engagement_score].append(follower)\n",
    "\n",
    "follower_engagement_reversed = {k: follower_engagement_reversed[k] for k in sorted(follower_engagement_reversed, reverse=True)}\n",
    "follower_engagement_reversed"
   ]
  },
  {
   "cell_type": "code",
   "execution_count": 98,
   "metadata": {},
   "outputs": [
    {
     "data": {
      "application/vnd.plotly.v1+json": {
       "config": {
        "plotlyServerURL": "https://plot.ly"
       },
       "data": [
        {
         "cells": {
          "align": [
           "center",
           "center"
          ],
          "fill": {
           "color": [
            [
             "#96FF8F",
             "#B7FF72",
             "#EDFF56",
             "#FFD839",
             "#FF7B1D",
             "#FF0E00"
            ],
            "white"
           ]
          },
          "font": {
           "size": 18
          },
          "height": 80,
          "line": {
           "color": "darkslategray"
          },
          "values": [
           [
            "80-100%",
            "60-80%",
            "40-60%",
            "20-40%",
            "1-20%",
            "0%"
           ],
           [
            "",
            "",
            "",
            "",
            "",
            "<br></br> <br></br> <br></br> <br></br> <br></br>"
           ]
          ]
         },
         "columnorder": [
          1,
          2
         ],
         "columnwidth": [
          14,
          100
         ],
         "header": {
          "align": [
           "center",
           "center"
          ],
          "fill": {
           "color": [
            "lightgray"
           ]
          },
          "font": {
           "color": "black",
           "size": 18
          },
          "height": 40,
          "line": {
           "color": "darkslategray"
          },
          "values": [
           [
            "Engagement"
           ],
           [
            ""
           ]
          ]
         },
         "type": "table"
        }
       ],
       "layout": {
        "font": {
         "size": 20
        },
        "height": 1000,
        "images": [
         {
          "sizex": 0.05,
          "sizey": 0.05,
          "source": "./images/unbothered.moisturized.jpg",
          "x": 0.15,
          "xanchor": "center",
          "xref": "paper",
          "y": 0.9,
          "yanchor": "middle",
          "yref": "paper"
         },
         {
          "sizex": 0.05,
          "sizey": 0.05,
          "source": "./images/jd_is_frostyy.jpg",
          "x": 0.15,
          "xanchor": "center",
          "xref": "paper",
          "y": 0.805,
          "yanchor": "middle",
          "yref": "paper"
         },
         {
          "sizex": 0.05,
          "sizey": 0.05,
          "source": "./images/eli_salted.jpg",
          "x": 0.2,
          "xanchor": "center",
          "xref": "paper",
          "y": 0.805,
          "yanchor": "middle",
          "yref": "paper"
         },
         {
          "sizex": 0.05,
          "sizey": 0.05,
          "source": "./images/keenart_.jpg",
          "x": 0.25,
          "xanchor": "center",
          "xref": "paper",
          "y": 0.805,
          "yanchor": "middle",
          "yref": "paper"
         },
         {
          "sizex": 0.05,
          "sizey": 0.05,
          "source": "./images/priyashnil.jpg",
          "x": 0.3,
          "xanchor": "center",
          "xref": "paper",
          "y": 0.805,
          "yanchor": "middle",
          "yref": "paper"
         },
         {
          "sizex": 0.05,
          "sizey": 0.05,
          "source": "./images/marvyp97.jpg",
          "x": 0.35,
          "xanchor": "center",
          "xref": "paper",
          "y": 0.805,
          "yanchor": "middle",
          "yref": "paper"
         },
         {
          "sizex": 0.05,
          "sizey": 0.05,
          "source": "./images/salamitsesther.jpg",
          "x": 0.39999999999999997,
          "xanchor": "center",
          "xref": "paper",
          "y": 0.805,
          "yanchor": "middle",
          "yref": "paper"
         },
         {
          "sizex": 0.05,
          "sizey": 0.05,
          "source": "./images/kayleejune_.jpg",
          "x": 0.15,
          "xanchor": "center",
          "xref": "paper",
          "y": 0.7100000000000001,
          "yanchor": "middle",
          "yref": "paper"
         },
         {
          "sizex": 0.05,
          "sizey": 0.05,
          "source": "./images/dheie8a.jpg",
          "x": 0.2,
          "xanchor": "center",
          "xref": "paper",
          "y": 0.7100000000000001,
          "yanchor": "middle",
          "yref": "paper"
         },
         {
          "sizex": 0.05,
          "sizey": 0.05,
          "source": "./images/harsimran__panda.jpg",
          "x": 0.25,
          "xanchor": "center",
          "xref": "paper",
          "y": 0.7100000000000001,
          "yanchor": "middle",
          "yref": "paper"
         },
         {
          "sizex": 0.05,
          "sizey": 0.05,
          "source": "./images/willharinga.jpg",
          "x": 0.3,
          "xanchor": "center",
          "xref": "paper",
          "y": 0.7100000000000001,
          "yanchor": "middle",
          "yref": "paper"
         },
         {
          "sizex": 0.05,
          "sizey": 0.05,
          "source": "./images/korinerosario.jpg",
          "x": 0.35,
          "xanchor": "center",
          "xref": "paper",
          "y": 0.7100000000000001,
          "yanchor": "middle",
          "yref": "paper"
         },
         {
          "sizex": 0.05,
          "sizey": 0.05,
          "source": "./images/asinveryyoung.jpg",
          "x": 0.39999999999999997,
          "xanchor": "center",
          "xref": "paper",
          "y": 0.7100000000000001,
          "yanchor": "middle",
          "yref": "paper"
         },
         {
          "sizex": 0.05,
          "sizey": 0.05,
          "source": "./images/hashtags_g.jpg",
          "x": 0.44999999999999996,
          "xanchor": "center",
          "xref": "paper",
          "y": 0.7100000000000001,
          "yanchor": "middle",
          "yref": "paper"
         },
         {
          "sizex": 0.05,
          "sizey": 0.05,
          "source": "./images/juliaalee.jpg",
          "x": 0.49999999999999994,
          "xanchor": "center",
          "xref": "paper",
          "y": 0.7100000000000001,
          "yanchor": "middle",
          "yref": "paper"
         },
         {
          "sizex": 0.05,
          "sizey": 0.05,
          "source": "./images/vagittarius.jpg",
          "x": 0.15,
          "xanchor": "center",
          "xref": "paper",
          "y": 0.6150000000000001,
          "yanchor": "middle",
          "yref": "paper"
         },
         {
          "sizex": 0.05,
          "sizey": 0.05,
          "source": "./images/sukh.maanix.jpg",
          "x": 0.2,
          "xanchor": "center",
          "xref": "paper",
          "y": 0.6150000000000001,
          "yanchor": "middle",
          "yref": "paper"
         },
         {
          "sizex": 0.05,
          "sizey": 0.05,
          "source": "./images/iriskahh.jpg",
          "x": 0.25,
          "xanchor": "center",
          "xref": "paper",
          "y": 0.6150000000000001,
          "yanchor": "middle",
          "yref": "paper"
         },
         {
          "sizex": 0.05,
          "sizey": 0.05,
          "source": "./images/e__zhang.jpg",
          "x": 0.3,
          "xanchor": "center",
          "xref": "paper",
          "y": 0.6150000000000001,
          "yanchor": "middle",
          "yref": "paper"
         },
         {
          "sizex": 0.05,
          "sizey": 0.05,
          "source": "./images/aryanlobie.jpg",
          "x": 0.35,
          "xanchor": "center",
          "xref": "paper",
          "y": 0.6150000000000001,
          "yanchor": "middle",
          "yref": "paper"
         },
         {
          "sizex": 0.05,
          "sizey": 0.05,
          "source": "./images/disposab.le.jpg",
          "x": 0.39999999999999997,
          "xanchor": "center",
          "xref": "paper",
          "y": 0.6150000000000001,
          "yanchor": "middle",
          "yref": "paper"
         },
         {
          "sizex": 0.05,
          "sizey": 0.05,
          "source": "./images/puneeth_david.jpg",
          "x": 0.44999999999999996,
          "xanchor": "center",
          "xref": "paper",
          "y": 0.6150000000000001,
          "yanchor": "middle",
          "yref": "paper"
         },
         {
          "sizex": 0.05,
          "sizey": 0.05,
          "source": "./images/patwal69.jpg",
          "x": 0.49999999999999994,
          "xanchor": "center",
          "xref": "paper",
          "y": 0.6150000000000001,
          "yanchor": "middle",
          "yref": "paper"
         },
         {
          "sizex": 0.05,
          "sizey": 0.05,
          "source": "./images/firstling_.jpg",
          "x": 0.5499999999999999,
          "xanchor": "center",
          "xref": "paper",
          "y": 0.6150000000000001,
          "yanchor": "middle",
          "yref": "paper"
         },
         {
          "sizex": 0.05,
          "sizey": 0.05,
          "source": "./images/wes.tavares.jpg",
          "x": 0.6,
          "xanchor": "center",
          "xref": "paper",
          "y": 0.6150000000000001,
          "yanchor": "middle",
          "yref": "paper"
         },
         {
          "sizex": 0.05,
          "sizey": 0.05,
          "source": "./images/jayfujiirajani.jpg",
          "x": 0.65,
          "xanchor": "center",
          "xref": "paper",
          "y": 0.6150000000000001,
          "yanchor": "middle",
          "yref": "paper"
         },
         {
          "sizex": 0.05,
          "sizey": 0.05,
          "source": "./images/dean_phommahaxay.jpg",
          "x": 0.15,
          "xanchor": "center",
          "xref": "paper",
          "y": 0.5200000000000001,
          "yanchor": "middle",
          "yref": "paper"
         },
         {
          "sizex": 0.05,
          "sizey": 0.05,
          "source": "./images/2hard2hold.jpg",
          "x": 0.2,
          "xanchor": "center",
          "xref": "paper",
          "y": 0.5200000000000001,
          "yanchor": "middle",
          "yref": "paper"
         },
         {
          "sizex": 0.05,
          "sizey": 0.05,
          "source": "./images/jashanz.jpg",
          "x": 0.25,
          "xanchor": "center",
          "xref": "paper",
          "y": 0.5200000000000001,
          "yanchor": "middle",
          "yref": "paper"
         },
         {
          "sizex": 0.05,
          "sizey": 0.05,
          "source": "./images/megan_liew.jpg",
          "x": 0.3,
          "xanchor": "center",
          "xref": "paper",
          "y": 0.5200000000000001,
          "yanchor": "middle",
          "yref": "paper"
         },
         {
          "sizex": 0.05,
          "sizey": 0.05,
          "source": "./images/navjotk___.jpg",
          "x": 0.35,
          "xanchor": "center",
          "xref": "paper",
          "y": 0.5200000000000001,
          "yanchor": "middle",
          "yref": "paper"
         },
         {
          "sizex": 0.05,
          "sizey": 0.05,
          "source": "./images/findingmemyselfand_.jpg",
          "x": 0.39999999999999997,
          "xanchor": "center",
          "xref": "paper",
          "y": 0.5200000000000001,
          "yanchor": "middle",
          "yref": "paper"
         },
         {
          "sizex": 0.05,
          "sizey": 0.05,
          "source": "./images/arshveenhora.jpg",
          "x": 0.44999999999999996,
          "xanchor": "center",
          "xref": "paper",
          "y": 0.5200000000000001,
          "yanchor": "middle",
          "yref": "paper"
         },
         {
          "sizex": 0.05,
          "sizey": 0.05,
          "source": "./images/ab00si.jpg",
          "x": 0.49999999999999994,
          "xanchor": "center",
          "xref": "paper",
          "y": 0.5200000000000001,
          "yanchor": "middle",
          "yref": "paper"
         },
         {
          "sizex": 0.05,
          "sizey": 0.05,
          "source": "./images/norman__tan.jpg",
          "x": 0.5499999999999999,
          "xanchor": "center",
          "xref": "paper",
          "y": 0.5200000000000001,
          "yanchor": "middle",
          "yref": "paper"
         },
         {
          "sizex": 0.05,
          "sizey": 0.05,
          "source": "./images/penguye.jpg",
          "x": 0.6,
          "xanchor": "center",
          "xref": "paper",
          "y": 0.5200000000000001,
          "yanchor": "middle",
          "yref": "paper"
         },
         {
          "sizex": 0.05,
          "sizey": 0.05,
          "source": "./images/hubbard.rosie.jpg",
          "x": 0.65,
          "xanchor": "center",
          "xref": "paper",
          "y": 0.5200000000000001,
          "yanchor": "middle",
          "yref": "paper"
         },
         {
          "sizex": 0.05,
          "sizey": 0.05,
          "source": "./images/byunie96.jpg",
          "x": 0.7000000000000001,
          "xanchor": "center",
          "xref": "paper",
          "y": 0.5200000000000001,
          "yanchor": "middle",
          "yref": "paper"
         },
         {
          "sizex": 0.05,
          "sizey": 0.05,
          "source": "./images/camlindsay98.jpg",
          "x": 0.7500000000000001,
          "xanchor": "center",
          "xref": "paper",
          "y": 0.5200000000000001,
          "yanchor": "middle",
          "yref": "paper"
         },
         {
          "sizex": 0.05,
          "sizey": 0.05,
          "source": "./images/royspires.jpg",
          "x": 0.8000000000000002,
          "xanchor": "center",
          "xref": "paper",
          "y": 0.5200000000000001,
          "yanchor": "middle",
          "yref": "paper"
         },
         {
          "sizex": 0.05,
          "sizey": 0.05,
          "source": "./images/emsuns.jpg",
          "x": 0.8500000000000002,
          "xanchor": "center",
          "xref": "paper",
          "y": 0.5200000000000001,
          "yanchor": "middle",
          "yref": "paper"
         },
         {
          "sizex": 0.05,
          "sizey": 0.05,
          "source": "./images/alex___kimmy.jpg",
          "x": 0.9000000000000002,
          "xanchor": "center",
          "xref": "paper",
          "y": 0.5200000000000001,
          "yanchor": "middle",
          "yref": "paper"
         },
         {
          "sizex": 0.05,
          "sizey": 0.05,
          "source": "./images/owen_schonewille.jpg",
          "x": 0.9500000000000003,
          "xanchor": "center",
          "xref": "paper",
          "y": 0.5200000000000001,
          "yanchor": "middle",
          "yref": "paper"
         },
         {
          "sizex": 0.05,
          "sizey": 0.05,
          "source": "./images/rikerus.jpg",
          "x": 0.15,
          "xanchor": "center",
          "xref": "paper",
          "y": 0.42500000000000016,
          "yanchor": "middle",
          "yref": "paper"
         },
         {
          "sizex": 0.05,
          "sizey": 0.05,
          "source": "./images/adventuresofbooplesnoot.jpg",
          "x": 0.2,
          "xanchor": "center",
          "xref": "paper",
          "y": 0.42500000000000016,
          "yanchor": "middle",
          "yref": "paper"
         },
         {
          "sizex": 0.05,
          "sizey": 0.05,
          "source": "./images/amy_ff_h.jpg",
          "x": 0.25,
          "xanchor": "center",
          "xref": "paper",
          "y": 0.42500000000000016,
          "yanchor": "middle",
          "yref": "paper"
         },
         {
          "sizex": 0.05,
          "sizey": 0.05,
          "source": "./images/odd_az.jpg",
          "x": 0.3,
          "xanchor": "center",
          "xref": "paper",
          "y": 0.42500000000000016,
          "yanchor": "middle",
          "yref": "paper"
         },
         {
          "sizex": 0.05,
          "sizey": 0.05,
          "source": "./images/maikamontgomery.jpg",
          "x": 0.35,
          "xanchor": "center",
          "xref": "paper",
          "y": 0.42500000000000016,
          "yanchor": "middle",
          "yref": "paper"
         },
         {
          "sizex": 0.05,
          "sizey": 0.05,
          "source": "./images/stolenlighter.jpg",
          "x": 0.39999999999999997,
          "xanchor": "center",
          "xref": "paper",
          "y": 0.42500000000000016,
          "yanchor": "middle",
          "yref": "paper"
         },
         {
          "sizex": 0.05,
          "sizey": 0.05,
          "source": "./images/claudiamckechnie.jpg",
          "x": 0.44999999999999996,
          "xanchor": "center",
          "xref": "paper",
          "y": 0.42500000000000016,
          "yanchor": "middle",
          "yref": "paper"
         },
         {
          "sizex": 0.05,
          "sizey": 0.05,
          "source": "./images/sophiologin.jpg",
          "x": 0.49999999999999994,
          "xanchor": "center",
          "xref": "paper",
          "y": 0.42500000000000016,
          "yanchor": "middle",
          "yref": "paper"
         },
         {
          "sizex": 0.05,
          "sizey": 0.05,
          "source": "./images/ebbastenhaug.jpg",
          "x": 0.5499999999999999,
          "xanchor": "center",
          "xref": "paper",
          "y": 0.42500000000000016,
          "yanchor": "middle",
          "yref": "paper"
         },
         {
          "sizex": 0.05,
          "sizey": 0.05,
          "source": "./images/troy.matich.jpg",
          "x": 0.6,
          "xanchor": "center",
          "xref": "paper",
          "y": 0.42500000000000016,
          "yanchor": "middle",
          "yref": "paper"
         },
         {
          "sizex": 0.05,
          "sizey": 0.05,
          "source": "./images/jasmeersingh.jpg",
          "x": 0.65,
          "xanchor": "center",
          "xref": "paper",
          "y": 0.42500000000000016,
          "yanchor": "middle",
          "yref": "paper"
         },
         {
          "sizex": 0.05,
          "sizey": 0.05,
          "source": "./images/gao.runzhe.jpg",
          "x": 0.7000000000000001,
          "xanchor": "center",
          "xref": "paper",
          "y": 0.42500000000000016,
          "yanchor": "middle",
          "yref": "paper"
         },
         {
          "sizex": 0.05,
          "sizey": 0.05,
          "source": "./images/akbloomfield.jpg",
          "x": 0.7500000000000001,
          "xanchor": "center",
          "xref": "paper",
          "y": 0.42500000000000016,
          "yanchor": "middle",
          "yref": "paper"
         },
         {
          "sizex": 0.05,
          "sizey": 0.05,
          "source": "./images/shafalovich1.jpg",
          "x": 0.8000000000000002,
          "xanchor": "center",
          "xref": "paper",
          "y": 0.42500000000000016,
          "yanchor": "middle",
          "yref": "paper"
         },
         {
          "sizex": 0.05,
          "sizey": 0.05,
          "source": "./images/roisincutts.jpg",
          "x": 0.8500000000000002,
          "xanchor": "center",
          "xref": "paper",
          "y": 0.42500000000000016,
          "yanchor": "middle",
          "yref": "paper"
         },
         {
          "sizex": 0.05,
          "sizey": 0.05,
          "source": "./images/nolan.andrade.jpg",
          "x": 0.9000000000000002,
          "xanchor": "center",
          "xref": "paper",
          "y": 0.42500000000000016,
          "yanchor": "middle",
          "yref": "paper"
         },
         {
          "sizex": 0.05,
          "sizey": 0.05,
          "source": "./images/big_ear_ben.jpg",
          "x": 0.9500000000000003,
          "xanchor": "center",
          "xref": "paper",
          "y": 0.42500000000000016,
          "yanchor": "middle",
          "yref": "paper"
         },
         {
          "sizex": 0.05,
          "sizey": 0.05,
          "source": "./images/pdiu.tfl.jpg",
          "x": 0.15,
          "xanchor": "center",
          "xref": "paper",
          "y": 0.3300000000000002,
          "yanchor": "middle",
          "yref": "paper"
         },
         {
          "sizex": 0.05,
          "sizey": 0.05,
          "source": "./images/tamiel.t.jpg",
          "x": 0.2,
          "xanchor": "center",
          "xref": "paper",
          "y": 0.3300000000000002,
          "yanchor": "middle",
          "yref": "paper"
         },
         {
          "sizex": 0.05,
          "sizey": 0.05,
          "source": "./images/car0llee.jpg",
          "x": 0.25,
          "xanchor": "center",
          "xref": "paper",
          "y": 0.3300000000000002,
          "yanchor": "middle",
          "yref": "paper"
         },
         {
          "sizex": 0.05,
          "sizey": 0.05,
          "source": "./images/jonchristie_.jpg",
          "x": 0.3,
          "xanchor": "center",
          "xref": "paper",
          "y": 0.3300000000000002,
          "yanchor": "middle",
          "yref": "paper"
         },
         {
          "sizex": 0.05,
          "sizey": 0.05,
          "source": "./images/zacchan96.jpg",
          "x": 0.35,
          "xanchor": "center",
          "xref": "paper",
          "y": 0.3300000000000002,
          "yanchor": "middle",
          "yref": "paper"
         },
         {
          "sizex": 0.05,
          "sizey": 0.05,
          "source": "./images/adrianasoldatovic.jpg",
          "x": 0.39999999999999997,
          "xanchor": "center",
          "xref": "paper",
          "y": 0.3300000000000002,
          "yanchor": "middle",
          "yref": "paper"
         },
         {
          "sizex": 0.05,
          "sizey": 0.05,
          "source": "./images/nitoandco.jpg",
          "x": 0.44999999999999996,
          "xanchor": "center",
          "xref": "paper",
          "y": 0.3300000000000002,
          "yanchor": "middle",
          "yref": "paper"
         },
         {
          "sizex": 0.05,
          "sizey": 0.05,
          "source": "./images/nicberton.jpg",
          "x": 0.49999999999999994,
          "xanchor": "center",
          "xref": "paper",
          "y": 0.3300000000000002,
          "yanchor": "middle",
          "yref": "paper"
         },
         {
          "sizex": 0.05,
          "sizey": 0.05,
          "source": "./images/paulro777.jpg",
          "x": 0.5499999999999999,
          "xanchor": "center",
          "xref": "paper",
          "y": 0.3300000000000002,
          "yanchor": "middle",
          "yref": "paper"
         },
         {
          "sizex": 0.05,
          "sizey": 0.05,
          "source": "./images/kieran_bp.jpg",
          "x": 0.6,
          "xanchor": "center",
          "xref": "paper",
          "y": 0.3300000000000002,
          "yanchor": "middle",
          "yref": "paper"
         },
         {
          "sizex": 0.05,
          "sizey": 0.05,
          "source": "./images/colocille.jpg",
          "x": 0.65,
          "xanchor": "center",
          "xref": "paper",
          "y": 0.3300000000000002,
          "yanchor": "middle",
          "yref": "paper"
         },
         {
          "sizex": 0.05,
          "sizey": 0.05,
          "source": "./images/d1amyy1b.jpg",
          "x": 0.7000000000000001,
          "xanchor": "center",
          "xref": "paper",
          "y": 0.3300000000000002,
          "yanchor": "middle",
          "yref": "paper"
         },
         {
          "sizex": 0.05,
          "sizey": 0.05,
          "source": "./images/mizukikakui.jpg",
          "x": 0.7500000000000001,
          "xanchor": "center",
          "xref": "paper",
          "y": 0.3300000000000002,
          "yanchor": "middle",
          "yref": "paper"
         },
         {
          "sizex": 0.05,
          "sizey": 0.05,
          "source": "./images/s.james.d.jpg",
          "x": 0.8000000000000002,
          "xanchor": "center",
          "xref": "paper",
          "y": 0.3300000000000002,
          "yanchor": "middle",
          "yref": "paper"
         }
        ],
        "template": {
         "data": {
          "bar": [
           {
            "error_x": {
             "color": "#2a3f5f"
            },
            "error_y": {
             "color": "#2a3f5f"
            },
            "marker": {
             "line": {
              "color": "white",
              "width": 0.5
             },
             "pattern": {
              "fillmode": "overlay",
              "size": 10,
              "solidity": 0.2
             }
            },
            "type": "bar"
           }
          ],
          "barpolar": [
           {
            "marker": {
             "line": {
              "color": "white",
              "width": 0.5
             },
             "pattern": {
              "fillmode": "overlay",
              "size": 10,
              "solidity": 0.2
             }
            },
            "type": "barpolar"
           }
          ],
          "carpet": [
           {
            "aaxis": {
             "endlinecolor": "#2a3f5f",
             "gridcolor": "#C8D4E3",
             "linecolor": "#C8D4E3",
             "minorgridcolor": "#C8D4E3",
             "startlinecolor": "#2a3f5f"
            },
            "baxis": {
             "endlinecolor": "#2a3f5f",
             "gridcolor": "#C8D4E3",
             "linecolor": "#C8D4E3",
             "minorgridcolor": "#C8D4E3",
             "startlinecolor": "#2a3f5f"
            },
            "type": "carpet"
           }
          ],
          "choropleth": [
           {
            "colorbar": {
             "outlinewidth": 0,
             "ticks": ""
            },
            "type": "choropleth"
           }
          ],
          "contour": [
           {
            "colorbar": {
             "outlinewidth": 0,
             "ticks": ""
            },
            "colorscale": [
             [
              0,
              "#0d0887"
             ],
             [
              0.1111111111111111,
              "#46039f"
             ],
             [
              0.2222222222222222,
              "#7201a8"
             ],
             [
              0.3333333333333333,
              "#9c179e"
             ],
             [
              0.4444444444444444,
              "#bd3786"
             ],
             [
              0.5555555555555556,
              "#d8576b"
             ],
             [
              0.6666666666666666,
              "#ed7953"
             ],
             [
              0.7777777777777778,
              "#fb9f3a"
             ],
             [
              0.8888888888888888,
              "#fdca26"
             ],
             [
              1,
              "#f0f921"
             ]
            ],
            "type": "contour"
           }
          ],
          "contourcarpet": [
           {
            "colorbar": {
             "outlinewidth": 0,
             "ticks": ""
            },
            "type": "contourcarpet"
           }
          ],
          "heatmap": [
           {
            "colorbar": {
             "outlinewidth": 0,
             "ticks": ""
            },
            "colorscale": [
             [
              0,
              "#0d0887"
             ],
             [
              0.1111111111111111,
              "#46039f"
             ],
             [
              0.2222222222222222,
              "#7201a8"
             ],
             [
              0.3333333333333333,
              "#9c179e"
             ],
             [
              0.4444444444444444,
              "#bd3786"
             ],
             [
              0.5555555555555556,
              "#d8576b"
             ],
             [
              0.6666666666666666,
              "#ed7953"
             ],
             [
              0.7777777777777778,
              "#fb9f3a"
             ],
             [
              0.8888888888888888,
              "#fdca26"
             ],
             [
              1,
              "#f0f921"
             ]
            ],
            "type": "heatmap"
           }
          ],
          "heatmapgl": [
           {
            "colorbar": {
             "outlinewidth": 0,
             "ticks": ""
            },
            "colorscale": [
             [
              0,
              "#0d0887"
             ],
             [
              0.1111111111111111,
              "#46039f"
             ],
             [
              0.2222222222222222,
              "#7201a8"
             ],
             [
              0.3333333333333333,
              "#9c179e"
             ],
             [
              0.4444444444444444,
              "#bd3786"
             ],
             [
              0.5555555555555556,
              "#d8576b"
             ],
             [
              0.6666666666666666,
              "#ed7953"
             ],
             [
              0.7777777777777778,
              "#fb9f3a"
             ],
             [
              0.8888888888888888,
              "#fdca26"
             ],
             [
              1,
              "#f0f921"
             ]
            ],
            "type": "heatmapgl"
           }
          ],
          "histogram": [
           {
            "marker": {
             "pattern": {
              "fillmode": "overlay",
              "size": 10,
              "solidity": 0.2
             }
            },
            "type": "histogram"
           }
          ],
          "histogram2d": [
           {
            "colorbar": {
             "outlinewidth": 0,
             "ticks": ""
            },
            "colorscale": [
             [
              0,
              "#0d0887"
             ],
             [
              0.1111111111111111,
              "#46039f"
             ],
             [
              0.2222222222222222,
              "#7201a8"
             ],
             [
              0.3333333333333333,
              "#9c179e"
             ],
             [
              0.4444444444444444,
              "#bd3786"
             ],
             [
              0.5555555555555556,
              "#d8576b"
             ],
             [
              0.6666666666666666,
              "#ed7953"
             ],
             [
              0.7777777777777778,
              "#fb9f3a"
             ],
             [
              0.8888888888888888,
              "#fdca26"
             ],
             [
              1,
              "#f0f921"
             ]
            ],
            "type": "histogram2d"
           }
          ],
          "histogram2dcontour": [
           {
            "colorbar": {
             "outlinewidth": 0,
             "ticks": ""
            },
            "colorscale": [
             [
              0,
              "#0d0887"
             ],
             [
              0.1111111111111111,
              "#46039f"
             ],
             [
              0.2222222222222222,
              "#7201a8"
             ],
             [
              0.3333333333333333,
              "#9c179e"
             ],
             [
              0.4444444444444444,
              "#bd3786"
             ],
             [
              0.5555555555555556,
              "#d8576b"
             ],
             [
              0.6666666666666666,
              "#ed7953"
             ],
             [
              0.7777777777777778,
              "#fb9f3a"
             ],
             [
              0.8888888888888888,
              "#fdca26"
             ],
             [
              1,
              "#f0f921"
             ]
            ],
            "type": "histogram2dcontour"
           }
          ],
          "mesh3d": [
           {
            "colorbar": {
             "outlinewidth": 0,
             "ticks": ""
            },
            "type": "mesh3d"
           }
          ],
          "parcoords": [
           {
            "line": {
             "colorbar": {
              "outlinewidth": 0,
              "ticks": ""
             }
            },
            "type": "parcoords"
           }
          ],
          "pie": [
           {
            "automargin": true,
            "type": "pie"
           }
          ],
          "scatter": [
           {
            "fillpattern": {
             "fillmode": "overlay",
             "size": 10,
             "solidity": 0.2
            },
            "type": "scatter"
           }
          ],
          "scatter3d": [
           {
            "line": {
             "colorbar": {
              "outlinewidth": 0,
              "ticks": ""
             }
            },
            "marker": {
             "colorbar": {
              "outlinewidth": 0,
              "ticks": ""
             }
            },
            "type": "scatter3d"
           }
          ],
          "scattercarpet": [
           {
            "marker": {
             "colorbar": {
              "outlinewidth": 0,
              "ticks": ""
             }
            },
            "type": "scattercarpet"
           }
          ],
          "scattergeo": [
           {
            "marker": {
             "colorbar": {
              "outlinewidth": 0,
              "ticks": ""
             }
            },
            "type": "scattergeo"
           }
          ],
          "scattergl": [
           {
            "marker": {
             "colorbar": {
              "outlinewidth": 0,
              "ticks": ""
             }
            },
            "type": "scattergl"
           }
          ],
          "scattermapbox": [
           {
            "marker": {
             "colorbar": {
              "outlinewidth": 0,
              "ticks": ""
             }
            },
            "type": "scattermapbox"
           }
          ],
          "scatterpolar": [
           {
            "marker": {
             "colorbar": {
              "outlinewidth": 0,
              "ticks": ""
             }
            },
            "type": "scatterpolar"
           }
          ],
          "scatterpolargl": [
           {
            "marker": {
             "colorbar": {
              "outlinewidth": 0,
              "ticks": ""
             }
            },
            "type": "scatterpolargl"
           }
          ],
          "scatterternary": [
           {
            "marker": {
             "colorbar": {
              "outlinewidth": 0,
              "ticks": ""
             }
            },
            "type": "scatterternary"
           }
          ],
          "surface": [
           {
            "colorbar": {
             "outlinewidth": 0,
             "ticks": ""
            },
            "colorscale": [
             [
              0,
              "#0d0887"
             ],
             [
              0.1111111111111111,
              "#46039f"
             ],
             [
              0.2222222222222222,
              "#7201a8"
             ],
             [
              0.3333333333333333,
              "#9c179e"
             ],
             [
              0.4444444444444444,
              "#bd3786"
             ],
             [
              0.5555555555555556,
              "#d8576b"
             ],
             [
              0.6666666666666666,
              "#ed7953"
             ],
             [
              0.7777777777777778,
              "#fb9f3a"
             ],
             [
              0.8888888888888888,
              "#fdca26"
             ],
             [
              1,
              "#f0f921"
             ]
            ],
            "type": "surface"
           }
          ],
          "table": [
           {
            "cells": {
             "fill": {
              "color": "#EBF0F8"
             },
             "line": {
              "color": "white"
             }
            },
            "header": {
             "fill": {
              "color": "#C8D4E3"
             },
             "line": {
              "color": "white"
             }
            },
            "type": "table"
           }
          ]
         },
         "layout": {
          "annotationdefaults": {
           "arrowcolor": "#2a3f5f",
           "arrowhead": 0,
           "arrowwidth": 1
          },
          "autotypenumbers": "strict",
          "coloraxis": {
           "colorbar": {
            "outlinewidth": 0,
            "ticks": ""
           }
          },
          "colorscale": {
           "diverging": [
            [
             0,
             "#8e0152"
            ],
            [
             0.1,
             "#c51b7d"
            ],
            [
             0.2,
             "#de77ae"
            ],
            [
             0.3,
             "#f1b6da"
            ],
            [
             0.4,
             "#fde0ef"
            ],
            [
             0.5,
             "#f7f7f7"
            ],
            [
             0.6,
             "#e6f5d0"
            ],
            [
             0.7,
             "#b8e186"
            ],
            [
             0.8,
             "#7fbc41"
            ],
            [
             0.9,
             "#4d9221"
            ],
            [
             1,
             "#276419"
            ]
           ],
           "sequential": [
            [
             0,
             "#0d0887"
            ],
            [
             0.1111111111111111,
             "#46039f"
            ],
            [
             0.2222222222222222,
             "#7201a8"
            ],
            [
             0.3333333333333333,
             "#9c179e"
            ],
            [
             0.4444444444444444,
             "#bd3786"
            ],
            [
             0.5555555555555556,
             "#d8576b"
            ],
            [
             0.6666666666666666,
             "#ed7953"
            ],
            [
             0.7777777777777778,
             "#fb9f3a"
            ],
            [
             0.8888888888888888,
             "#fdca26"
            ],
            [
             1,
             "#f0f921"
            ]
           ],
           "sequentialminus": [
            [
             0,
             "#0d0887"
            ],
            [
             0.1111111111111111,
             "#46039f"
            ],
            [
             0.2222222222222222,
             "#7201a8"
            ],
            [
             0.3333333333333333,
             "#9c179e"
            ],
            [
             0.4444444444444444,
             "#bd3786"
            ],
            [
             0.5555555555555556,
             "#d8576b"
            ],
            [
             0.6666666666666666,
             "#ed7953"
            ],
            [
             0.7777777777777778,
             "#fb9f3a"
            ],
            [
             0.8888888888888888,
             "#fdca26"
            ],
            [
             1,
             "#f0f921"
            ]
           ]
          },
          "colorway": [
           "#636efa",
           "#EF553B",
           "#00cc96",
           "#ab63fa",
           "#FFA15A",
           "#19d3f3",
           "#FF6692",
           "#B6E880",
           "#FF97FF",
           "#FECB52"
          ],
          "font": {
           "color": "#2a3f5f"
          },
          "geo": {
           "bgcolor": "white",
           "lakecolor": "white",
           "landcolor": "white",
           "showlakes": true,
           "showland": true,
           "subunitcolor": "#C8D4E3"
          },
          "hoverlabel": {
           "align": "left"
          },
          "hovermode": "closest",
          "mapbox": {
           "style": "light"
          },
          "paper_bgcolor": "white",
          "plot_bgcolor": "white",
          "polar": {
           "angularaxis": {
            "gridcolor": "#EBF0F8",
            "linecolor": "#EBF0F8",
            "ticks": ""
           },
           "bgcolor": "white",
           "radialaxis": {
            "gridcolor": "#EBF0F8",
            "linecolor": "#EBF0F8",
            "ticks": ""
           }
          },
          "scene": {
           "xaxis": {
            "backgroundcolor": "white",
            "gridcolor": "#DFE8F3",
            "gridwidth": 2,
            "linecolor": "#EBF0F8",
            "showbackground": true,
            "ticks": "",
            "zerolinecolor": "#EBF0F8"
           },
           "yaxis": {
            "backgroundcolor": "white",
            "gridcolor": "#DFE8F3",
            "gridwidth": 2,
            "linecolor": "#EBF0F8",
            "showbackground": true,
            "ticks": "",
            "zerolinecolor": "#EBF0F8"
           },
           "zaxis": {
            "backgroundcolor": "white",
            "gridcolor": "#DFE8F3",
            "gridwidth": 2,
            "linecolor": "#EBF0F8",
            "showbackground": true,
            "ticks": "",
            "zerolinecolor": "#EBF0F8"
           }
          },
          "shapedefaults": {
           "line": {
            "color": "#2a3f5f"
           }
          },
          "ternary": {
           "aaxis": {
            "gridcolor": "#DFE8F3",
            "linecolor": "#A2B1C6",
            "ticks": ""
           },
           "baxis": {
            "gridcolor": "#DFE8F3",
            "linecolor": "#A2B1C6",
            "ticks": ""
           },
           "bgcolor": "white",
           "caxis": {
            "gridcolor": "#DFE8F3",
            "linecolor": "#A2B1C6",
            "ticks": ""
           }
          },
          "title": {
           "x": 0.05
          },
          "xaxis": {
           "automargin": true,
           "gridcolor": "#EBF0F8",
           "linecolor": "#EBF0F8",
           "ticks": "",
           "title": {
            "standoff": 15
           },
           "zerolinecolor": "#EBF0F8",
           "zerolinewidth": 2
          },
          "yaxis": {
           "automargin": true,
           "gridcolor": "#EBF0F8",
           "linecolor": "#EBF0F8",
           "ticks": "",
           "title": {
            "standoff": 15
           },
           "zerolinecolor": "#EBF0F8",
           "zerolinewidth": 2
          }
         }
        },
        "title": {
         "text": "@joshwascool follower engagement tier list"
        },
        "width": 1200
       }
      }
     },
     "metadata": {},
     "output_type": "display_data"
    }
   ],
   "source": [
    "import plotly.graph_objects as go\n",
    "\n",
    "\n",
    "colours = ['#FF0E00', '#FF7B1D', '#FFD839', '#EDFF56', '#B7FF72', '#96FF8F']\n",
    "colours.reverse()\n",
    "\n",
    "data = {\n",
    "    'engagement': ['80-100%', '60-80%', '40-60%', '20-40%', '1-20%', '0%'],\n",
    "    '': ['', '', '', '', '', '<br></br> <br></br> <br></br> <br></br> <br></br>'],\n",
    "    'colour': colours\n",
    "}\n",
    "df = pd.DataFrame(data)\n",
    "\n",
    "\n",
    "fig = go.Figure(data=[go.Table(\n",
    "  columnorder = [1,2],\n",
    "  columnwidth = [14,100],\n",
    "  header = dict(\n",
    "    values = [['Engagement'], ['']],\n",
    "    line_color='darkslategray',\n",
    "    fill_color=['lightgray'],\n",
    "    align=['center','center'],\n",
    "    font=dict(color='black', size=18),\n",
    "    height=40\n",
    "  ),\n",
    "  cells=dict(\n",
    "    values=[df['engagement'], df['']],\n",
    "    line_color='darkslategray',\n",
    "    fill_color=[df.colour, 'white'],\n",
    "    align=['center', 'center'],\n",
    "    font_size=18,\n",
    "    height=80)\n",
    "    )\n",
    "])\n",
    "\n",
    "y = 0.9\n",
    "y_dec = 0.095\n",
    "x_init = 0.15\n",
    "x_inc = 0.05\n",
    "for score, follower_list in follower_engagement_reversed.items():\n",
    "    x = x_init    \n",
    "    for i, follower in enumerate(follower_list):\n",
    "        src = f'./images/{follower}.jpg'\n",
    "        fig.add_layout_image(\n",
    "            dict(\n",
    "                source=src,\n",
    "                x=x,\n",
    "                y=y,\n",
    "            ))\n",
    "        x += x_inc\n",
    "        if x > 1 and (i+1) != len(follower_list):\n",
    "            x = x_init\n",
    "            y -= y_dec\n",
    "    y -= y_dec\n",
    "    \n",
    "        \n",
    "\n",
    "fig.update_layout_images(dict(\n",
    "        xref=\"paper\",\n",
    "        yref=\"paper\",\n",
    "        sizex=0.05,\n",
    "        sizey=0.05,\n",
    "        xanchor=\"center\",\n",
    "        yanchor=\"middle\"\n",
    "))\n",
    "\n",
    "fig.update_layout(\n",
    "    title_text=\"@joshwascool follower engagement tier list\",\n",
    "    height=1000,\n",
    "    width=1200,\n",
    "    template=\"plotly_white\",\n",
    "    font_size=20\n",
    ")\n",
    "fig.show()"
   ]
  }
 ],
 "metadata": {
  "interpreter": {
   "hash": "76ad95f14593b0a2fc24d0a09d92258fca1e0075874122d58dd1bae94a601e54"
  },
  "kernelspec": {
   "display_name": "Python 3.11.0 64-bit",
   "language": "python",
   "name": "python3"
  },
  "language_info": {
   "codemirror_mode": {
    "name": "ipython",
    "version": 3
   },
   "file_extension": ".py",
   "mimetype": "text/x-python",
   "name": "python",
   "nbconvert_exporter": "python",
   "pygments_lexer": "ipython3",
   "version": "3.11.0"
  },
  "orig_nbformat": 4
 },
 "nbformat": 4,
 "nbformat_minor": 2
}
